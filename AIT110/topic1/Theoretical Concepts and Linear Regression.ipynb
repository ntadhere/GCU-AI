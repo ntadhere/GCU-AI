{
 "cells": [
  {
   "cell_type": "markdown",
   "id": "f9791951",
   "metadata": {},
   "source": [
    "# Theoretical Concepts and Linear Regression\n",
    "\n",
    "## Part 1: Theoretical Concepts\n",
    "1. Define the following terms in the context of statistical learning:\n",
    "- **Training error**: It is the error the model makes on the trainning dataset. It measures how well a model performs on the training dataset\n",
    "- **Test error**: it evaluates the model's performance on unseen data. A low testing error indicates good generalization, while a high testing error may suggest overfitting or underfitting\n",
    "- **Bias-cariance trade-off**: describes the trade-off between a model's ability to fit the training data well (low bias) and its ability to generalize to unseen data (low variance)\n",
    "- **Overfitting**: When a model learns the training data too well, including the noise, and performs poorly on unseen data\n",
    "- **Model complexity**: how well a model can fit the training data and potentially generalize to new, unseen data\n",
    "\n",
    "2.  Explain the difference between parametric and nonparametric models in statistical learning. Provide an example of each type of model. \n",
    "\n",
    "| Parametric Models | Nonparametric Models |\n",
    "|:-----------|:------------|\n",
    "| fixed structure | Flexible |\n",
    "| Few parameters | Data-driven, Parameters grow with data |\n",
    "| simpler and computationally efficient | more computationally demanding and prone to overfitting with small datasets |\n",
    "| Linear regression | k-Nearest Neighbors |\n",
    "| Suppose we model house price based on square footage. A parametric model (linear regression) assumes a straight-line relationship: as square footage increases, price increases at a fixed rate. It simplifies reality into slope + intercept. | Instead of assuming a straight line, k-NN looks at prices of the most similar houses (neighbors in size, location, number of rooms, etc.) and predicts based on those. This adapts to neighborhoods where price jumps aren’t linear (e.g., houses near a beach are disproportionately expensive). |\n",
    "\n",
    "\n",
    "\n",
    "\n",
    "3.    Discuss the bias-variance trade-off in relation to model performance. Provide an example of how a highly complex model could lead to overfitting and how a simple model might underfit the data. \n",
    "- The bias-variance trade-off explains how model complexity affects prediction:\n",
    "    - **Simple models** have high bias (too rigid), which can cause *underfitting*-they miss important patterns\n",
    "    - **Complex models** have high variance (too sensitive to data), which can cause *overfitting*-they memorize noise instead of generalizing\n",
    "- Example:\n",
    "    - A simple linear model predicting house prices from size alone may underfit\n",
    "    - A deep neural network with many layers may overfit by memorizing training data\n",
    "- The goal is to balance bias and variance for the best performance.\n",
    "\n",
    "---\n"
   ]
  },
  {
   "cell_type": "markdown",
   "id": "333d1345",
   "metadata": {},
   "source": [
    "## **Part 2: Linear Regression** \n",
    "\n",
    "### **Fit a simple linear regression model using Size to predict Price.**"
   ]
  },
  {
   "cell_type": "markdown",
   "id": "c0a302bd",
   "metadata": {},
   "source": [
    "#### Step 1: Import Libraries and Load Data"
   ]
  },
  {
   "cell_type": "code",
   "execution_count": 3,
   "id": "99564b96",
   "metadata": {},
   "outputs": [
    {
     "data": {
      "text/html": [
       "<div>\n",
       "<style scoped>\n",
       "    .dataframe tbody tr th:only-of-type {\n",
       "        vertical-align: middle;\n",
       "    }\n",
       "\n",
       "    .dataframe tbody tr th {\n",
       "        vertical-align: top;\n",
       "    }\n",
       "\n",
       "    .dataframe thead th {\n",
       "        text-align: right;\n",
       "    }\n",
       "</style>\n",
       "<table border=\"1\" class=\"dataframe\">\n",
       "  <thead>\n",
       "    <tr style=\"text-align: right;\">\n",
       "      <th></th>\n",
       "      <th>longitude</th>\n",
       "      <th>latitude</th>\n",
       "      <th>housing_median_age</th>\n",
       "      <th>total_rooms</th>\n",
       "      <th>total_bedrooms</th>\n",
       "      <th>population</th>\n",
       "      <th>households</th>\n",
       "      <th>median_income</th>\n",
       "      <th>median_house_value</th>\n",
       "      <th>ocean_proximity</th>\n",
       "    </tr>\n",
       "  </thead>\n",
       "  <tbody>\n",
       "    <tr>\n",
       "      <th>0</th>\n",
       "      <td>-122.23</td>\n",
       "      <td>37.88</td>\n",
       "      <td>41.0</td>\n",
       "      <td>880.0</td>\n",
       "      <td>129.0</td>\n",
       "      <td>322.0</td>\n",
       "      <td>126.0</td>\n",
       "      <td>8.3252</td>\n",
       "      <td>452600.0</td>\n",
       "      <td>NEAR BAY</td>\n",
       "    </tr>\n",
       "    <tr>\n",
       "      <th>1</th>\n",
       "      <td>-122.22</td>\n",
       "      <td>37.86</td>\n",
       "      <td>21.0</td>\n",
       "      <td>7099.0</td>\n",
       "      <td>1106.0</td>\n",
       "      <td>2401.0</td>\n",
       "      <td>1138.0</td>\n",
       "      <td>8.3014</td>\n",
       "      <td>358500.0</td>\n",
       "      <td>NEAR BAY</td>\n",
       "    </tr>\n",
       "    <tr>\n",
       "      <th>2</th>\n",
       "      <td>-122.24</td>\n",
       "      <td>37.85</td>\n",
       "      <td>52.0</td>\n",
       "      <td>1467.0</td>\n",
       "      <td>190.0</td>\n",
       "      <td>496.0</td>\n",
       "      <td>177.0</td>\n",
       "      <td>7.2574</td>\n",
       "      <td>352100.0</td>\n",
       "      <td>NEAR BAY</td>\n",
       "    </tr>\n",
       "    <tr>\n",
       "      <th>3</th>\n",
       "      <td>-122.25</td>\n",
       "      <td>37.85</td>\n",
       "      <td>52.0</td>\n",
       "      <td>1274.0</td>\n",
       "      <td>235.0</td>\n",
       "      <td>558.0</td>\n",
       "      <td>219.0</td>\n",
       "      <td>5.6431</td>\n",
       "      <td>341300.0</td>\n",
       "      <td>NEAR BAY</td>\n",
       "    </tr>\n",
       "    <tr>\n",
       "      <th>4</th>\n",
       "      <td>-122.25</td>\n",
       "      <td>37.85</td>\n",
       "      <td>52.0</td>\n",
       "      <td>1627.0</td>\n",
       "      <td>280.0</td>\n",
       "      <td>565.0</td>\n",
       "      <td>259.0</td>\n",
       "      <td>3.8462</td>\n",
       "      <td>342200.0</td>\n",
       "      <td>NEAR BAY</td>\n",
       "    </tr>\n",
       "  </tbody>\n",
       "</table>\n",
       "</div>"
      ],
      "text/plain": [
       "   longitude  latitude  housing_median_age  total_rooms  total_bedrooms  \\\n",
       "0    -122.23     37.88                41.0        880.0           129.0   \n",
       "1    -122.22     37.86                21.0       7099.0          1106.0   \n",
       "2    -122.24     37.85                52.0       1467.0           190.0   \n",
       "3    -122.25     37.85                52.0       1274.0           235.0   \n",
       "4    -122.25     37.85                52.0       1627.0           280.0   \n",
       "\n",
       "   population  households  median_income  median_house_value ocean_proximity  \n",
       "0       322.0       126.0         8.3252            452600.0        NEAR BAY  \n",
       "1      2401.0      1138.0         8.3014            358500.0        NEAR BAY  \n",
       "2       496.0       177.0         7.2574            352100.0        NEAR BAY  \n",
       "3       558.0       219.0         5.6431            341300.0        NEAR BAY  \n",
       "4       565.0       259.0         3.8462            342200.0        NEAR BAY  "
      ]
     },
     "execution_count": 3,
     "metadata": {},
     "output_type": "execute_result"
    }
   ],
   "source": [
    "import pandas as pd\n",
    "import statsmodels.api as sm\n",
    "\n",
    "# Load dataset (California Housing dataset)\n",
    "data = pd.read_csv(\"dataset/housing.csv\")\n",
    "data.head()"
   ]
  },
  {
   "cell_type": "markdown",
   "id": "65b316ba",
   "metadata": {},
   "source": [
    "#### Step 2: Add a Constant (Intercept)"
   ]
  },
  {
   "cell_type": "code",
   "execution_count": 4,
   "id": "82ab64d8",
   "metadata": {},
   "outputs": [
    {
     "data": {
      "text/html": [
       "<div>\n",
       "<style scoped>\n",
       "    .dataframe tbody tr th:only-of-type {\n",
       "        vertical-align: middle;\n",
       "    }\n",
       "\n",
       "    .dataframe tbody tr th {\n",
       "        vertical-align: top;\n",
       "    }\n",
       "\n",
       "    .dataframe thead th {\n",
       "        text-align: right;\n",
       "    }\n",
       "</style>\n",
       "<table border=\"1\" class=\"dataframe\">\n",
       "  <thead>\n",
       "    <tr style=\"text-align: right;\">\n",
       "      <th></th>\n",
       "      <th>const</th>\n",
       "      <th>total_rooms</th>\n",
       "    </tr>\n",
       "  </thead>\n",
       "  <tbody>\n",
       "    <tr>\n",
       "      <th>0</th>\n",
       "      <td>1.0</td>\n",
       "      <td>880.0</td>\n",
       "    </tr>\n",
       "    <tr>\n",
       "      <th>1</th>\n",
       "      <td>1.0</td>\n",
       "      <td>7099.0</td>\n",
       "    </tr>\n",
       "    <tr>\n",
       "      <th>2</th>\n",
       "      <td>1.0</td>\n",
       "      <td>1467.0</td>\n",
       "    </tr>\n",
       "    <tr>\n",
       "      <th>3</th>\n",
       "      <td>1.0</td>\n",
       "      <td>1274.0</td>\n",
       "    </tr>\n",
       "    <tr>\n",
       "      <th>4</th>\n",
       "      <td>1.0</td>\n",
       "      <td>1627.0</td>\n",
       "    </tr>\n",
       "  </tbody>\n",
       "</table>\n",
       "</div>"
      ],
      "text/plain": [
       "   const  total_rooms\n",
       "0    1.0        880.0\n",
       "1    1.0       7099.0\n",
       "2    1.0       1467.0\n",
       "3    1.0       1274.0\n",
       "4    1.0       1627.0"
      ]
     },
     "execution_count": 4,
     "metadata": {},
     "output_type": "execute_result"
    }
   ],
   "source": [
    "\n",
    "# Independent variable (predictor)\n",
    "X = data[\"total_rooms\"]\n",
    "\n",
    "# Dependent variable (target)\n",
    "y = data[\"median_house_value\"]\n",
    "\n",
    "# Add a constant so regression includes intercept\n",
    "X = sm.add_constant(X)\n",
    "X.head()"
   ]
  },
  {
   "cell_type": "markdown",
   "id": "8dbe360a",
   "metadata": {},
   "source": [
    "#### Step 3: Fit the Regression Model"
   ]
  },
  {
   "cell_type": "code",
   "execution_count": 5,
   "id": "ddefdae7",
   "metadata": {},
   "outputs": [
    {
     "data": {
      "text/html": [
       "<table class=\"simpletable\">\n",
       "<caption>OLS Regression Results</caption>\n",
       "<tr>\n",
       "  <th>Dep. Variable:</th>    <td>median_house_value</td> <th>  R-squared:         </th>  <td>   0.018</td>  \n",
       "</tr>\n",
       "<tr>\n",
       "  <th>Model:</th>                    <td>OLS</td>        <th>  Adj. R-squared:    </th>  <td>   0.018</td>  \n",
       "</tr>\n",
       "<tr>\n",
       "  <th>Method:</th>              <td>Least Squares</td>   <th>  F-statistic:       </th>  <td>   378.2</td>  \n",
       "</tr>\n",
       "<tr>\n",
       "  <th>Date:</th>              <td>Tue, 16 Sep 2025</td>  <th>  Prob (F-statistic):</th>  <td>1.69e-83</td>  \n",
       "</tr>\n",
       "<tr>\n",
       "  <th>Time:</th>                  <td>10:41:08</td>      <th>  Log-Likelihood:    </th> <td>-2.6968e+05</td>\n",
       "</tr>\n",
       "<tr>\n",
       "  <th>No. Observations:</th>       <td> 20640</td>       <th>  AIC:               </th>  <td>5.394e+05</td> \n",
       "</tr>\n",
       "<tr>\n",
       "  <th>Df Residuals:</th>           <td> 20638</td>       <th>  BIC:               </th>  <td>5.394e+05</td> \n",
       "</tr>\n",
       "<tr>\n",
       "  <th>Df Model:</th>               <td>     1</td>       <th>                     </th>      <td> </td>     \n",
       "</tr>\n",
       "<tr>\n",
       "  <th>Covariance Type:</th>       <td>nonrobust</td>     <th>                     </th>      <td> </td>     \n",
       "</tr>\n",
       "</table>\n",
       "<table class=\"simpletable\">\n",
       "<tr>\n",
       "       <td></td>          <th>coef</th>     <th>std err</th>      <th>t</th>      <th>P>|t|</th>  <th>[0.025</th>    <th>0.975]</th>  \n",
       "</tr>\n",
       "<tr>\n",
       "  <th>const</th>       <td> 1.882e+05</td> <td> 1248.379</td> <td>  150.717</td> <td> 0.000</td> <td> 1.86e+05</td> <td> 1.91e+05</td>\n",
       "</tr>\n",
       "<tr>\n",
       "  <th>total_rooms</th> <td>    7.0960</td> <td>    0.365</td> <td>   19.448</td> <td> 0.000</td> <td>    6.381</td> <td>    7.811</td>\n",
       "</tr>\n",
       "</table>\n",
       "<table class=\"simpletable\">\n",
       "<tr>\n",
       "  <th>Omnibus:</th>       <td>2504.907</td> <th>  Durbin-Watson:     </th> <td>   0.333</td>\n",
       "</tr>\n",
       "<tr>\n",
       "  <th>Prob(Omnibus):</th>  <td> 0.000</td>  <th>  Jarque-Bera (JB):  </th> <td>3511.341</td>\n",
       "</tr>\n",
       "<tr>\n",
       "  <th>Skew:</th>           <td> 0.991</td>  <th>  Prob(JB):          </th> <td>    0.00</td>\n",
       "</tr>\n",
       "<tr>\n",
       "  <th>Kurtosis:</th>       <td> 3.393</td>  <th>  Cond. No.          </th> <td>5.37e+03</td>\n",
       "</tr>\n",
       "</table><br/><br/>Notes:<br/>[1] Standard Errors assume that the covariance matrix of the errors is correctly specified.<br/>[2] The condition number is large, 5.37e+03. This might indicate that there are<br/>strong multicollinearity or other numerical problems."
      ],
      "text/latex": [
       "\\begin{center}\n",
       "\\begin{tabular}{lclc}\n",
       "\\toprule\n",
       "\\textbf{Dep. Variable:}    & median\\_house\\_value & \\textbf{  R-squared:         } &      0.018   \\\\\n",
       "\\textbf{Model:}            &         OLS          & \\textbf{  Adj. R-squared:    } &      0.018   \\\\\n",
       "\\textbf{Method:}           &    Least Squares     & \\textbf{  F-statistic:       } &      378.2   \\\\\n",
       "\\textbf{Date:}             &   Tue, 16 Sep 2025   & \\textbf{  Prob (F-statistic):} &   1.69e-83   \\\\\n",
       "\\textbf{Time:}             &       10:41:08       & \\textbf{  Log-Likelihood:    } & -2.6968e+05  \\\\\n",
       "\\textbf{No. Observations:} &         20640        & \\textbf{  AIC:               } &  5.394e+05   \\\\\n",
       "\\textbf{Df Residuals:}     &         20638        & \\textbf{  BIC:               } &  5.394e+05   \\\\\n",
       "\\textbf{Df Model:}         &             1        & \\textbf{                     } &              \\\\\n",
       "\\textbf{Covariance Type:}  &      nonrobust       & \\textbf{                     } &              \\\\\n",
       "\\bottomrule\n",
       "\\end{tabular}\n",
       "\\begin{tabular}{lcccccc}\n",
       "                      & \\textbf{coef} & \\textbf{std err} & \\textbf{t} & \\textbf{P$> |$t$|$} & \\textbf{[0.025} & \\textbf{0.975]}  \\\\\n",
       "\\midrule\n",
       "\\textbf{const}        &    1.882e+05  &     1248.379     &   150.717  &         0.000        &     1.86e+05    &     1.91e+05     \\\\\n",
       "\\textbf{total\\_rooms} &       7.0960  &        0.365     &    19.448  &         0.000        &        6.381    &        7.811     \\\\\n",
       "\\bottomrule\n",
       "\\end{tabular}\n",
       "\\begin{tabular}{lclc}\n",
       "\\textbf{Omnibus:}       & 2504.907 & \\textbf{  Durbin-Watson:     } &    0.333  \\\\\n",
       "\\textbf{Prob(Omnibus):} &   0.000  & \\textbf{  Jarque-Bera (JB):  } & 3511.341  \\\\\n",
       "\\textbf{Skew:}          &   0.991  & \\textbf{  Prob(JB):          } &     0.00  \\\\\n",
       "\\textbf{Kurtosis:}      &   3.393  & \\textbf{  Cond. No.          } & 5.37e+03  \\\\\n",
       "\\bottomrule\n",
       "\\end{tabular}\n",
       "%\\caption{OLS Regression Results}\n",
       "\\end{center}\n",
       "\n",
       "Notes: \\newline\n",
       " [1] Standard Errors assume that the covariance matrix of the errors is correctly specified. \\newline\n",
       " [2] The condition number is large, 5.37e+03. This might indicate that there are \\newline\n",
       " strong multicollinearity or other numerical problems."
      ],
      "text/plain": [
       "<class 'statsmodels.iolib.summary.Summary'>\n",
       "\"\"\"\n",
       "                            OLS Regression Results                            \n",
       "==============================================================================\n",
       "Dep. Variable:     median_house_value   R-squared:                       0.018\n",
       "Model:                            OLS   Adj. R-squared:                  0.018\n",
       "Method:                 Least Squares   F-statistic:                     378.2\n",
       "Date:                Tue, 16 Sep 2025   Prob (F-statistic):           1.69e-83\n",
       "Time:                        10:41:08   Log-Likelihood:            -2.6968e+05\n",
       "No. Observations:               20640   AIC:                         5.394e+05\n",
       "Df Residuals:                   20638   BIC:                         5.394e+05\n",
       "Df Model:                           1                                         \n",
       "Covariance Type:            nonrobust                                         \n",
       "===============================================================================\n",
       "                  coef    std err          t      P>|t|      [0.025      0.975]\n",
       "-------------------------------------------------------------------------------\n",
       "const        1.882e+05   1248.379    150.717      0.000    1.86e+05    1.91e+05\n",
       "total_rooms     7.0960      0.365     19.448      0.000       6.381       7.811\n",
       "==============================================================================\n",
       "Omnibus:                     2504.907   Durbin-Watson:                   0.333\n",
       "Prob(Omnibus):                  0.000   Jarque-Bera (JB):             3511.341\n",
       "Skew:                           0.991   Prob(JB):                         0.00\n",
       "Kurtosis:                       3.393   Cond. No.                     5.37e+03\n",
       "==============================================================================\n",
       "\n",
       "Notes:\n",
       "[1] Standard Errors assume that the covariance matrix of the errors is correctly specified.\n",
       "[2] The condition number is large, 5.37e+03. This might indicate that there are\n",
       "strong multicollinearity or other numerical problems.\n",
       "\"\"\""
      ]
     },
     "execution_count": 5,
     "metadata": {},
     "output_type": "execute_result"
    }
   ],
   "source": [
    "# Fit simple linear regression\n",
    "model = sm.OLS(y, X).fit()\n",
    "model.summary()"
   ]
  },
  {
   "cell_type": "markdown",
   "id": "8895c874",
   "metadata": {},
   "source": [
    "#### Step 4: Extract Coefficients"
   ]
  },
  {
   "cell_type": "code",
   "execution_count": 6,
   "id": "3cdba29d",
   "metadata": {},
   "outputs": [
    {
     "name": "stdout",
     "output_type": "stream",
     "text": [
      "Intercept: 188152.52, Slope: 7.10\n"
     ]
    }
   ],
   "source": [
    "# Extract intercept and slope\n",
    "intercept, slope = model.params\n",
    "print(f\"Intercept: {intercept:.2f}, Slope: {slope:.2f}\")"
   ]
  },
  {
   "cell_type": "markdown",
   "id": "48ae3037",
   "metadata": {},
   "source": [
    "#### Step 5: Build the Regression Equation"
   ]
  },
  {
   "cell_type": "markdown",
   "id": "9f1ba43a",
   "metadata": {},
   "source": [
    "\n",
    "The regression equation is:\n",
    "\n",
    "$$\n",
    "\\text{Price} = \\text{Intercept} + \\text{Slope} \\times \\text{Total\\_Rooms}\n",
    "$$\n",
    "\n",
    "Substituting the coefficients:\n",
    "\n",
    "$$\n",
    "\\text{Price} = 188{,}152.52 + 7.10 \\times \\text{Total\\_Rooms}\n",
    "$$\n",
    "\n",
    "##### Interpretation:\n",
    "- **Intercept (188,152.52):**  \n",
    "  This represents the predicted house price when the number of rooms is zero. Although not realistic in practice, it serves as the model's baseline.\n",
    "\n",
    "- **Slope (7.10):**  \n",
    "  For each additional room, the model predicts that the median house value increases by approximately **\\$7,096**, assuming all else remains constant."
   ]
  },
  {
   "cell_type": "markdown",
   "id": "2f8ac34d",
   "metadata": {},
   "source": [
    "\n",
    "#### **How AI/ML Finds the Equation**\n",
    "\n",
    "The regression model uses **Ordinary Least Squares (OLS)** to minimize the **Sum of Squared Errors (SSE):**\n",
    "$$\n",
    "SSE = \\sum (y_i - \\hat{y}_i)^2\n",
    "$$\n",
    "\n",
    "**Definitions:**\n",
    "\n",
    "$$\n",
    "y_i = \\text{actual house price}\n",
    "$$\n",
    "\n",
    "$$\n",
    "\\hat{y}_i = \\text{predicted house price}\n",
    "$$\n",
    "\n",
    "The slope and intercept are chosen to minimize this error, producing the best-fit regression line.\n",
    "\n",
    "---\n",
    "\n"
   ]
  },
  {
   "cell_type": "markdown",
   "id": "81394f26",
   "metadata": {},
   "source": [
    "### **Multiple linear regression model**\n",
    "\n",
    "We will fit a **multiple linear regression** model to predict house price (`median_house_value`) using:\n",
    "\n",
    "- `total_rooms` (proxy for Size)  \n",
    "- `total_bedrooms` (proxy for Bedrooms)  \n",
    "- `housing_median_age` (proxy for Age)  \n",
    "- `longitude` (used here as proxy for distance from city center)"
   ]
  },
  {
   "cell_type": "markdown",
   "id": "f00baf31",
   "metadata": {},
   "source": [
    "#### Step 1: Import Libraries and Load Data"
   ]
  },
  {
   "cell_type": "code",
   "execution_count": null,
   "id": "17ebf085",
   "metadata": {},
   "outputs": [],
   "source": [
    "import numpy as np\n",
    "import pandas as pd\n",
    "import statsmodels.api as sm\n",
    "from sklearn.preprocessing import StandardScaler\n",
    "\n",
    "# 1) Load dataset\n",
    "data = pd.read_csv(\"dataset/housing.csv\")  # <- adjust path if needed"
   ]
  },
  {
   "cell_type": "markdown",
   "id": "c0e912d3",
   "metadata": {},
   "source": [
    "#### Step 2: Define Variables"
   ]
  },
  {
   "cell_type": "code",
   "execution_count": null,
   "id": "b5184b44",
   "metadata": {},
   "outputs": [],
   "source": [
    "# Build a single DataFrame for aligned cleaning\n",
    "df = data.loc[:, [\"median_house_value\", \"total_rooms\", \"total_bedrooms\", \"housing_median_age\", \"longitude\"]].copy()\n",
    "df.columns = [\"Price\", \"Size\", \"Bedrooms\", \"Age\", \"Distance_to_city_center\"]\n",
    "\n",
    "# Replace ±inf with NaN and drop rows with missing values in X or y\n",
    "df = df.replace([np.inf, -np.inf], np.nan).dropna(subset=[\"Price\",\"Size\",\"Bedrooms\",\"Age\",\"Distance_to_city_center\"])\n",
    "\n",
    "# Split into X, y and add intercept\n",
    "y = df[\"Price\"]\n",
    "X = df[[\"Size\",\"Bedrooms\",\"Age\",\"Distance_to_city_center\"]]\n",
    "X = sm.add_constant(X)\n",
    "\n",
    "# (Optional sanity check)\n",
    "assert not X.isna().any().any(), \"X still has NaNs\"\n",
    "assert not np.isinf(X.values).any(), \"X still has ±inf\"\n",
    "assert not y.isna().any(), \"y has NaNs\"\n",
    "assert not np.isinf(y.values).any(), \"y has ±inf\""
   ]
  },
  {
   "cell_type": "markdown",
   "id": "5173160d",
   "metadata": {},
   "source": [
    "#### Step 3: Add Constant and Fit Model"
   ]
  },
  {
   "cell_type": "code",
   "execution_count": null,
   "id": "205afc3a",
   "metadata": {},
   "outputs": [
    {
     "name": "stdout",
     "output_type": "stream",
     "text": [
      "                            OLS Regression Results                            \n",
      "==============================================================================\n",
      "Dep. Variable:                  Price   R-squared:                       0.090\n",
      "Model:                            OLS   Adj. R-squared:                  0.090\n",
      "Method:                 Least Squares   F-statistic:                     503.6\n",
      "Date:                Tue, 16 Sep 2025   Prob (F-statistic):               0.00\n",
      "Time:                        13:44:46   Log-Likelihood:            -2.6621e+05\n",
      "No. Observations:               20433   AIC:                         5.324e+05\n",
      "Df Residuals:                   20428   BIC:                         5.325e+05\n",
      "Df Model:                           4                                         \n",
      "Covariance Type:            nonrobust                                         \n",
      "===========================================================================================\n",
      "                              coef    std err          t      P>|t|      [0.025      0.975]\n",
      "-------------------------------------------------------------------------------------------\n",
      "const                    1.149e+04   4.63e+04      0.248      0.804   -7.93e+04    1.02e+05\n",
      "Size                       38.6361      0.980     39.414      0.000      36.715      40.558\n",
      "Bedrooms                 -156.1644      5.009    -31.178      0.000    -165.982    -146.347\n",
      "Age                      1700.3565     66.028     25.752      0.000    1570.936    1829.777\n",
      "Distance_to_city_center -1077.3286    388.145     -2.776      0.006   -1838.125    -316.532\n",
      "==============================================================================\n",
      "Omnibus:                     2099.946   Durbin-Watson:                   0.376\n",
      "Prob(Omnibus):                  0.000   Jarque-Bera (JB):             2800.419\n",
      "Skew:                           0.881   Prob(JB):                         0.00\n",
      "Kurtosis:                       3.431   Cond. No.                     2.10e+05\n",
      "==============================================================================\n",
      "\n",
      "Notes:\n",
      "[1] Standard Errors assume that the covariance matrix of the errors is correctly specified.\n",
      "[2] The condition number is large, 2.1e+05. This might indicate that there are\n",
      "strong multicollinearity or other numerical problems.\n"
     ]
    }
   ],
   "source": [
    "# Fit OLS\n",
    "model = sm.OLS(y, X).fit()\n",
    "print(model.summary())"
   ]
  },
  {
   "cell_type": "markdown",
   "id": "c7643dfb",
   "metadata": {},
   "source": [
    "#### Step 4: Extract Coefficients"
   ]
  },
  {
   "cell_type": "code",
   "execution_count": 22,
   "id": "445e241b",
   "metadata": {},
   "outputs": [
    {
     "name": "stdout",
     "output_type": "stream",
     "text": [
      "\n",
      "Coefficients:\n",
      "  Intercept: 11493.05\n",
      "  Size (total_rooms): 38.64\n",
      "  Bedrooms (total_bedrooms): -156.16\n",
      "  Age (housing_median_age): 1700.36\n",
      "  Distance proxy (longitude): -1077.33\n"
     ]
    }
   ],
   "source": [
    "# Coefficients\n",
    "intercept, b_size, b_bedrooms, b_age, b_long = model.params\n",
    "print(\"\\nCoefficients:\")\n",
    "print(f\"  Intercept: {intercept:.2f}\")\n",
    "print(f\"  Size (total_rooms): {b_size:.2f}\")\n",
    "print(f\"  Bedrooms (total_bedrooms): {b_bedrooms:.2f}\")\n",
    "print(f\"  Age (housing_median_age): {b_age:.2f}\")\n",
    "print(f\"  Distance proxy (longitude): {b_long:.2f}\")\n"
   ]
  },
  {
   "cell_type": "code",
   "execution_count": null,
   "id": "954123a3",
   "metadata": {},
   "outputs": [
    {
     "name": "stdout",
     "output_type": "stream",
     "text": [
      "Standardized (beta) coefficients:\n",
      "                      Size: +0.7314\n",
      "                  Bedrooms: -0.5700\n",
      "                       Age: +0.1855\n",
      "   Distance_to_city_center: -0.0187\n"
     ]
    }
   ],
   "source": [
    "# Standardized (beta) coefficients to compare impact strengths\n",
    "# Standardize X and y so coefficients are unitless\n",
    "scaler = StandardScaler()\n",
    "X_std = scaler.fit_transform(df[[\"Size\",\"Bedrooms\",\"Age\",\"Distance_to_city_center\"]])\n",
    "y_std = (y - y.mean()) / y.std()\n",
    "\n",
    "X_std = sm.add_constant(X_std)\n",
    "model_beta = sm.OLS(y_std, X_std).fit()\n",
    "\n",
    "beta = model_beta.params\n",
    "print(\"Standardized (beta) coefficients:\")\n",
    "for k, v in beta_map.items():\n",
    "    print(f\"  {k:>24s}: {v:+.4f}\")\n"
   ]
  },
  {
   "cell_type": "markdown",
   "id": "1624972c",
   "metadata": {},
   "source": [
    "\n",
    "#### Step 5: Regression Equation\n",
    "\n",
    "The regression equation is:\n",
    "\n",
    "$$\n",
    "\\text{{Price}} = {intercept:.2f}\n",
    "\\;+\\; {b_size:.4f}\\cdot \\text{{Size}}\n",
    "\\;+\\; {b_bedrooms:.4f}\\cdot \\text{{Bedrooms}}\n",
    "\\;+\\; {b_age:.4f}\\cdot \\text{{Age}}\n",
    "\\;+\\; {b_long:.4f}\\cdot \\text{{Distance\\_to\\_city\\_center}}\n",
    "$$\n",
    "\n",
    "\n",
    "Where:\n",
    "- **Intercept** = baseline predicted price  \n",
    "- **Coefficients** = effect of each independent variable on Price\n",
    "\n",
    "#### Step 6: Interpretation\n",
    "\n",
    "- **Intercept:** Predicted house price when all independent variables are zero (not meaningful, but anchors the regression line).  \n",
    "- **Size (total_rooms):** How much the price changes with an additional room, holding other factors constant.  \n",
    "- **Bedrooms (total_bedrooms):** Price change for an additional bedroom, holding other factors constant.  \n",
    "- **Age (housing_median_age):** Effect of one more year in house age on price.  \n",
    "- **Longitude (proxy for distance):** Effect of moving one unit further west/east on price.  \n",
    "\n",
    "The variable with the **largest absolute coefficient** (after adjusting for scale) has the **strongest impact** on house prices.\n",
    "\n"
   ]
  },
  {
   "cell_type": "markdown",
   "id": "d5e6e69c",
   "metadata": {},
   "source": [
    "## References:\n",
    "- Lecture note: https://colab.research.google.com/drive/15Lq4kiSe4JkdOJifvjS4Ac2_jMODrdoI#scrollTo=pBHLavikDQUC\n",
    "- Model Complexity: https://ishanjainoffical.medium.com/model-complexity-explained-intuitively-e179e38866b6"
   ]
  }
 ],
 "metadata": {
  "kernelspec": {
   "display_name": "Python 3",
   "language": "python",
   "name": "python3"
  },
  "language_info": {
   "codemirror_mode": {
    "name": "ipython",
    "version": 3
   },
   "file_extension": ".py",
   "mimetype": "text/x-python",
   "name": "python",
   "nbconvert_exporter": "python",
   "pygments_lexer": "ipython3",
   "version": "3.11.9"
  }
 },
 "nbformat": 4,
 "nbformat_minor": 5
}
